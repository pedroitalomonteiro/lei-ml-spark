{
 "cells": [
  {
   "cell_type": "markdown",
   "id": "07dcda9e-1153-452e-996b-af515cf9fce8",
   "metadata": {},
   "source": [
    "# Importando a biblioteca"
   ]
  },
  {
   "cell_type": "code",
   "execution_count": 2,
   "id": "d34f3a86-a0c6-492e-9dcd-3879d8986206",
   "metadata": {},
   "outputs": [],
   "source": [
    "# Bibliotecas padrão do Python\n",
    "import os, json, glob, time\n",
    "\n",
    "# ────────────────────────────────────────────────────────────────────────────\n",
    "# Apache Spark\n",
    "from pyspark.sql import SparkSession\n",
    "from pyspark.sql.functions import col, udf, explode\n",
    "from pyspark.ml import Pipeline\n",
    "from pyspark.ml.feature import (\n",
    "    Tokenizer,\n",
    "    StopWordsRemover,\n",
    "    HashingTF,\n",
    "    IDF,\n",
    "    StringIndexer,\n",
    ")\n",
    "from pyspark.ml.classification import (\n",
    "    LogisticRegression,\n",
    "    RandomForestClassifier,\n",
    "    GBTClassifier,\n",
    "    OneVsRest,        # estratégia Binary Relevance p/ multilabel\n",
    ")\n",
    "from pyspark.ml.linalg import Vectors, VectorUDT\n",
    "\n",
    "# ────────────────────────────────────────────────────────────────────────────\n",
    "# Imports opcionais (tentamos usar se disponíveis)\n",
    "try:\n",
    "    from pyspark.ml.feature import MultiLabelBinarizer         # Spark 3.5+\n",
    "    HAS_MLB = True\n",
    "except ImportError:\n",
    "    HAS_MLB = False                                            # Spark ≤ 3.4\n",
    "\n",
    "try:\n",
    "    from pyspark.ml.evaluation import MultilabelClassificationEvaluator  # Spark 3.5+\n",
    "    HAS_ML_EVAL = True\n",
    "except ImportError:\n",
    "    HAS_ML_EVAL = False                                        # Spark ≤ 3.4\n"
   ]
  },
  {
   "cell_type": "markdown",
   "id": "6e5d77f2-0373-4d33-b3e3-eead74e6bc28",
   "metadata": {},
   "source": [
    "# Lendo os arquivos"
   ]
  },
  {
   "cell_type": "code",
   "execution_count": 3,
   "id": "fdf19b77-010a-41ac-9553-3a756b339ca6",
   "metadata": {},
   "outputs": [],
   "source": [
    "from pyspark.sql import SparkSession\n",
    "\n",
    "# SparkSession otimizado para dataset pequeno (~7 000 linhas)\n",
    "spark = (\n",
    "    SparkSession.builder\n",
    "        .appName(\"ClassificacaoDecretos\")\n",
    "        .master(\"local[*]\")                # usa todos os núcleos disponíveis\n",
    "        .config(\"spark.driver.memory\", \"4g\")\n",
    "        .config(\"spark.sql.shuffle.partitions\", \"16\")  # ↓ overhead de shuffle (padrão é 200)\n",
    "        .getOrCreate()\n",
    ")\n"
   ]
  },
  {
   "cell_type": "code",
   "execution_count": 4,
   "id": "de94b23b-6985-4fc6-82fe-00f5676bf245",
   "metadata": {},
   "outputs": [
    {
     "name": "stdout",
     "output_type": "stream",
     "text": [
      "root\n",
      " |-- catalogo: struct (nullable = true)\n",
      " |    |-- frase: string (nullable = true)\n",
      " |-- classes: struct (nullable = true)\n",
      " |    |-- classe: string (nullable = true)\n",
      " |-- disps: struct (nullable = true)\n",
      " |    |-- disp: struct (nullable = true)\n",
      " |    |    |-- codItemDocumento: string (nullable = true)\n",
      " |    |    |-- nomeDispositivo: string (nullable = true)\n",
      " |    |    |-- refs: struct (nullable = true)\n",
      " |    |    |    |-- ref: struct (nullable = true)\n",
      " |    |    |    |    |-- codNormaPosterior: string (nullable = true)\n",
      " |    |    |    |    |-- comentario: string (nullable = true)\n",
      " |    |    |    |    |-- dispositivo: string (nullable = true)\n",
      " |-- edivs: struct (nullable = true)\n",
      " |    |-- ediv: struct (nullable = true)\n",
      " |    |    |-- codnormaAnterior: string (nullable = true)\n",
      " |    |    |-- comentario: string (nullable = true)\n",
      " |    |    |-- datAssinatura: string (nullable = true)\n",
      " |    |    |-- itens: struct (nullable = true)\n",
      " |    |    |    |-- item: struct (nullable = true)\n",
      " |    |    |    |    |-- comentario: string (nullable = true)\n",
      " |    |    |    |    |-- dispositivo: string (nullable = true)\n",
      " |    |    |-- nomeNormaAnterior: string (nullable = true)\n",
      " |-- ementa: string (nullable = true)\n",
      " |-- id: string (nullable = true)\n",
      " |-- identificacao: struct (nullable = true)\n",
      " |    |-- apelido: string (nullable = true)\n",
      " |    |-- complemento: string (nullable = true)\n",
      " |    |-- dataassinatura: string (nullable = true)\n",
      " |    |-- descricao: string (nullable = true)\n",
      " |    |-- norma: string (nullable = true)\n",
      " |    |-- normaNome: string (nullable = true)\n",
      " |    |-- numero: string (nullable = true)\n",
      " |    |-- situacao: string (nullable = true)\n",
      " |    |-- tipo: string (nullable = true)\n",
      " |    |-- urlDocumento: string (nullable = true)\n",
      " |-- indexacao: struct (nullable = true)\n",
      " |    |-- frase: string (nullable = true)\n",
      " |-- lista: string (nullable = true)\n",
      " |-- observacao: string (nullable = true)\n",
      " |-- publicacoes: struct (nullable = true)\n",
      " |    |-- publicacao: struct (nullable = true)\n",
      " |    |    |-- coluna: string (nullable = true)\n",
      " |    |    |-- data: string (nullable = true)\n",
      " |    |    |-- dispositivo: string (nullable = true)\n",
      " |    |    |-- fonte: string (nullable = true)\n",
      " |    |    |-- id: string (nullable = true)\n",
      " |    |    |-- pagina: string (nullable = true)\n",
      " |    |    |-- siglaFonte: string (nullable = true)\n",
      " |    |    |-- temTexto: string (nullable = true)\n",
      " |    |    |-- tipo: string (nullable = true)\n",
      " |-- vides: struct (nullable = true)\n",
      " |    |-- vide: struct (nullable = true)\n",
      " |    |    |-- codnormaposterior: string (nullable = true)\n",
      " |    |    |-- coluna: string (nullable = true)\n",
      " |    |    |-- comentario: string (nullable = true)\n",
      " |    |    |-- datAssinatura: string (nullable = true)\n",
      " |    |    |-- datapub: string (nullable = true)\n",
      " |    |    |-- edicao: string (nullable = true)\n",
      " |    |    |-- itens: struct (nullable = true)\n",
      " |    |    |    |-- item: struct (nullable = true)\n",
      " |    |    |    |    |-- comentario: string (nullable = true)\n",
      " |    |    |    |    |-- dispositivo: string (nullable = true)\n",
      " |    |    |-- nomeNormaPosterior: string (nullable = true)\n",
      " |    |    |-- nomePub: string (nullable = true)\n",
      " |    |    |-- pagina: string (nullable = true)\n",
      " |    |    |-- tipoEdicao: string (nullable = true)\n",
      "\n",
      "+-------------------------------------------------------------------------------------------------------+---------------------------------------------------------------------------------------------------+-----------------------------------------------------------------------------------------------------------------------------------------------------------------+------------------------------------------------------------------------------------------------------------------+----------------------------------------------------------------------------------------------------------------------------------------------------------------------------------------------------------------------------------------------------------------------------------------------------------------------------------------------------------------------------------------------------------------------------------------------------------------------------------------------------------------------------------------------------------------------------------------------------------------------------------------------------------------------------------------------------------------------------------------------------------------------------------------------------------------------------------------------------------------------------------------------------------------------------------------------------------------------------------------------------------------------------------------------------------------------------------------------------------------------------------------------------------------------------------------------------------------------------------------------------------------------------------------------------------------------------------------------------------------------------------------------------------------------------------------------------------------------------------------------------------------------------------------------------------------------------------------------------------------------------------------------------------------------------------------------------------------------------------------------------------------------------------------------------------------------------------------------------------------------------------------------------------------------------------------------------------------------------------------------------------------------------------------------------------------------------------------------------------------------------------------------------------------------------------------------------------------------------------------------------------------------------------------------------------------------------------------------------------------------------------------------------------------------------------------------------------------------------------------------------------------------------------------------------------------------------------------------------------------------------------------------------------------------------------------------------------------------------------------------------------------------------------------------------------------------------------------------------------------------------------------------------------------------------------------------------------------------------------------------------------------------------------------------------------------------------------------------------------------------------------------------------------------------------------------------------------------------------------------------------------------------------------------------------------------------------------------------------------------------------------------------------------------------------------------------------------------------------------------------------------------------------------------------------------------------------------------------------------------------------------------------------------------------------------------------------------------------------------------------------------------------------------------------------------------------------------------------------------------------------------------------------------------------------------------------------------------------------------------------------------------------------------------------------------------------------------------------------------------------------------------------------------------+------+-------------------------------------------------------------------------------------------------------------------------------------------------------------------------------------------------+----------------------------------------------------------------------------------------------------------------------------------------------------------------------------------------------------------------+-----+-----------------------------------------------------------------------------------------------------------------------------------------------------------+---------------------------------------------------------------------------------------------------------------------------------------------------------------------------------------------------+----------------------------------------------------------------------------------------------------------------------------------------------------------------------------------------------------------------------------------------------------+\n",
      "|catalogo                                                                                               |classes                                                                                            |disps                                                                                                                                                            |edivs                                                                                                             |ementa                                                                                                                                                                                                                                                                                                                                                                                                                                                                                                                                                                                                                                                                                                                                                                                                                                                                                                                                                                                                                                                                                                                                                                                                                                                                                                                                                                                                                                                                                                                                                                                                                                                                                                                                                                                                                                                                                                                                                                                                                                                                                                                                                                                                                                                                                                                                                                                                                                                                                                                                                                                                                                                                                                                                                                                                                                                                                                                                                                                                                                                                                                                                                                                                                                                                                                                                                                                                                                                                                                                                                                                                                                                                                                                                                                                                                                                                                                                                                                                                                                                                                                                                                          |id    |identificacao                                                                                                                                                                                    |indexacao                                                                                                                                                                                                       |lista|observacao                                                                                                                                                 |publicacoes                                                                                                                                                                                        |vides                                                                                                                                                                                                                                               |\n",
      "+-------------------------------------------------------------------------------------------------------+---------------------------------------------------------------------------------------------------+-----------------------------------------------------------------------------------------------------------------------------------------------------------------+------------------------------------------------------------------------------------------------------------------+----------------------------------------------------------------------------------------------------------------------------------------------------------------------------------------------------------------------------------------------------------------------------------------------------------------------------------------------------------------------------------------------------------------------------------------------------------------------------------------------------------------------------------------------------------------------------------------------------------------------------------------------------------------------------------------------------------------------------------------------------------------------------------------------------------------------------------------------------------------------------------------------------------------------------------------------------------------------------------------------------------------------------------------------------------------------------------------------------------------------------------------------------------------------------------------------------------------------------------------------------------------------------------------------------------------------------------------------------------------------------------------------------------------------------------------------------------------------------------------------------------------------------------------------------------------------------------------------------------------------------------------------------------------------------------------------------------------------------------------------------------------------------------------------------------------------------------------------------------------------------------------------------------------------------------------------------------------------------------------------------------------------------------------------------------------------------------------------------------------------------------------------------------------------------------------------------------------------------------------------------------------------------------------------------------------------------------------------------------------------------------------------------------------------------------------------------------------------------------------------------------------------------------------------------------------------------------------------------------------------------------------------------------------------------------------------------------------------------------------------------------------------------------------------------------------------------------------------------------------------------------------------------------------------------------------------------------------------------------------------------------------------------------------------------------------------------------------------------------------------------------------------------------------------------------------------------------------------------------------------------------------------------------------------------------------------------------------------------------------------------------------------------------------------------------------------------------------------------------------------------------------------------------------------------------------------------------------------------------------------------------------------------------------------------------------------------------------------------------------------------------------------------------------------------------------------------------------------------------------------------------------------------------------------------------------------------------------------------------------------------------------------------------------------------------------------------------------------------------------------------------------------------------------+------+-------------------------------------------------------------------------------------------------------------------------------------------------------------------------------------------------+----------------------------------------------------------------------------------------------------------------------------------------------------------------------------------------------------------------+-----+-----------------------------------------------------------------------------------------------------------------------------------------------------------+---------------------------------------------------------------------------------------------------------------------------------------------------------------------------------------------------+----------------------------------------------------------------------------------------------------------------------------------------------------------------------------------------------------------------------------------------------------+\n",
      "|{ADMINISTRAÇÃO FEDERAL ,  PESSOAL .}                                                                   |{Classificação Temática Unificada / Administração Pública / Agentes Públicos / Servidores Públicos}|{{12295986, Anexo 170 [Lei nº 11.907 de 02/02/2009], {{40946961, Alteração (Declaração de Alteração Permanente), Lei nº 15.141 de 02/06/2025}}}}                 |{{568943, Declaração de Conversão em Lei com Alteração, 29/08/2008, NULL, Medida Provisória nº 441 de 29/08/2008}}|Dispõe sobre a reestruturação da composição remuneratória das Carreiras de Oficial de Chancelaria e de Assistente de Chancelaria, de que trata o art. 2º da Lei nº 11.440, de 29 de dezembro de 2006, da Carreira de Tecnologia Militar, de que trata a Lei nº 9.657, de 3 de junho de 1998, dos cargos do Grupo Defesa Aérea e Controle de Tráfego Aéreo - Grupo DACTA, de que trata a Lei nº 10.551, de 13 de novembro de 2002, dos empregos públicos do Quadro de Pessoal do Hospital das Forças Armadas - HFA, de que trata a Lei nº 10.225, de 15 de maio de 2001, da Carreira de Supervisor Médico-Pericial, de que trata a Lei nº 9.620, de 2 de abril de 1998, das Carreiras da Área de Ciência e Tecnologia, de que trata a Lei nº 8.691, de 28 de julho de 1993, do Plano de Carreiras e Cargos da Fundação Oswaldo Cruz - FIOCRUZ, de que trata a Lei nº 11.355, de 19 de outubro de 2006, das Carreiras e do Plano Especial de Cargos do Departamento Nacional de Infra-Estrutura de Transportes - DNIT, de que trata a Lei nº 11.171, de 2 de setembro de 2005, da Carreira da Seguridade Social e do Trabalho, de que trata a Lei nº 10.483, de 3 de julho de 2002, da Carreira Previdenciária, de que trata a Lei nº 10.355, de 26 de dezembro de 2001, dos Policiais e Bombeiros Militares dos Ex-Territórios Federais e do antigo Distrito Federal, de que trata a Lei nº 10.486, de 4 de julho de 2002, do Plano Especial de Cargos da Superintendência da Zona Franca de Manaus - SUFRAMA, de que trata a Lei nº 11.356, de 19 de outubro de 2006, do Plano Especial de Cargos da Empresa Brasileira de Turismo - EMBRATUR, de que trata a Lei nº 11.356, de 19 de outubro de 2006, do Plano de Classificação de Cargos, de que trata a Lei nº 5.645, de 10 de dezembro de 1970, do Plano Geral de Cargos do Poder Executivo, de que trata a Lei nº 11.357, de 19 de outubro de 2006, do Quadro de Pessoal da Imprensa Nacional, de que trata a Lei nº 11.090, de 7 de janeiro de 2005, da Gratificação de Incremento à Atividade de Administração do Patrimônio da União - GIAPU, de que trata a Lei nº 11.095, de 13 de janeiro de 2005, das Carreiras da área de Meio Ambiente, de que trata a Lei nº 10.410, de 11 de janeiro de 2002, do Plano Especial de Cargos do Ministério do Meio Ambiente e do Instituto Brasileiro do Meio Ambiente e dos Recursos Naturais Renováveis - IBAMA, de que trata a Lei nº 11.357, de 19 de outubro de 2006, das Carreiras e do Plano Especial de Cargos do FNDE, de que trata a Lei nº 11.357, de 19 de outubro de 2006, das Carreiras e do Plano Especial de Cargos do INEP, de que trata a Lei nº 11.357, de 19 de outubro de 2006, dos Juizes do Tribunal Marítimo, de que trata a Lei nº 11.319, de 6 de julho de 2006, do Quadro de Pessoal da Fundação Nacional do Índio - FUNAI, do Plano de Carreiras e Cargos do Instituto Nacional de Metrologia, Normalização e Qualidade Industrial - INMETRO, de que trata a Lei nº 11.355, de 19 de outubro de 2006, do Plano de Carreiras e Cargos do Instituto Brasileiro de Geografia e Estatística - IBGE, de que trata a Lei nº 11.355, de 19 de outubro de 2006, do Plano de Carreiras e Cargos do Instituto Nacional de Propriedade Industrial - INPI, de que trata a Lei nº 11.355, de 19 de outubro de 2006, da Carreira do Seguro Social, de que trata a Lei nº 10.855, de 1o de abril de 2004, das Carreiras e do Plano Especial de Cargos do Departamento Nacional de Produção Mineral - DNPM, de que trata a Lei nº 11.046, de 27 de dezembro de 2004, do Quadro de Pessoal da AGU, de que trata a Lei nº 10.480, de 2 de julho de 2002, da Tabela de Vencimentos e da Gratificação de Desempenho de Atividade dos Fiscais Federais Agropecuários, de que trata a Lei nº 10.883, de 16 de junho de 2004, da Gratificação de Desempenho de Atividade Técnica de Fiscalização Agropecuária - GDATFA, de que trata a Lei nº 10.484, de 3 julho de 2002, da Gratificação de Desempenho de Atividade de Perito Federal Agrário - GDAPA, de que trata a Lei nº 10.550, de 13 de novembro de 2002, da Gratificação de Desempenho de Atividade de|583532|{LEI-11907-2009-02-02, NULL, 02/02/2009, Lei Numerada, LEI-11907-2009-02-02, Lei nº 11.907 de 02/02/2009, 11907, NULL, LEI-n, https://normas.leg.br/?urn=urn:lex:br:federal:lei:2009-02-02;11907}|{NORMAS ,  REESTRUTURAÇÃO ,  CARGO DE CARREIRA ,  REAJUSTE ,  AUMENTO ,  REMUNERAÇÃO ,  VENCIMENTOS ,  GRATIFICAÇÃO ,  FUNÇÃO GRATIFICADA ,  SERVIDOR ,  QUADRO DE PESSOAL ,  ORGÃOS ,  ADMINISTRAÇÃO FEDERAL .}|NULL |AUTOR: LEGISLATIVO - PLV 28 DE 2008.                                                                                                                       |{{1, 30/04/2021, Publicação de Veto Parcialmente Rejeitado   [Diário Oficial da União  de 30/04/2021] (p. 1, col. 1), Diário Oficial da União  de 30/04/2021, 33714853, 1, DOU-2021-04-30, S, VEP}}|{{40946961, 2, Declaração de Alteração Permanente, 02/06/2025, 03/06/2025, 40947801, {{Alteração, Anexo 170}}, Lei nº 15.141 de 02/06/2025, Publicação Original   [Diário Oficial da União  de 03/06/2025] (p. 2, col. 2), 2, 750}}                 |\n",
      "|{POLITICA AGRICOLA ,  POLITICA SOCIAL ,  POLITICA FISCAL ,  INCENTIVO ,  PROCESSO CIVIL ,  LICITAÇÃO .}|{Classificação Temática Unificada / Economia e Desenvolvimento / Agropecuária e Abastecimento}     |{{39713920, Art. 52, caput [Lei nº 12.873 de 24/10/2013], {{39712283, Dispositivo Correlato (Declaração de Legislação Correlata), Lei nº 14.989 de 25/09/2024}}}}|{{579797, Declaração de Conversão em Lei com Alteração, 06/06/2013, NULL, Medida Provisória nº 619 de 06/06/2013}}|Autoriza a Companhia Nacional de Abastecimento a utilizar o Regime Diferenciado de Contratações Públicas - RDC, instituído pela Lei nº 12.462, de 4 de agosto de 2011, para a contratação de todas as ações relacionadas à reforma, modernização, ampliação ou construção de unidades armazenadoras próprias destinadas às atividades de guarda e conservação de produtos agropecuários em ambiente natural; altera as Leis nºs 8.212, de 24 de julho de 1991, e 8.213, de 24 de julho de 1991, o Decreto- Lei nº 5.452, de 1o de maio de 1942 - Consolidação das Leis do Trabalho, as Leis nºs 11.491, de 20 de junho de 2007, e 12.512, de 14 de outubro de 2011; dispõe sobre os contratos de financiamento do Fundo de Terras e da Reforma Agrária, de que trata a Lei Complementar nº 93, de 4 de fevereiro de 1998; autoriza a inclusão de despesas acessórias relativas à aquisição de imóvel rural nos financiamentos de que trata a Lei Complementar nº 93, de 4 de fevereiro de 1998; institui o Programa Nacional de Apoio à Captação de Água de Chuva e Outras Tecnologias Sociais de Acesso à Água - Programa Cisternas; altera a Lei nº 8.666, de 21 de junho de 1993, o Decreto-Lei nº 167, de 14 de fevereiro de 1967, as Leis nºs 10.406, de 10 de janeiro de 2002 - Código Civil, 9.718, de 27 de novembro de 1998, e 12.546, de 14 de setembro de 2011; autoriza a União a conceder subvenção econômica, referente à safra 2011/2012, para produtores independentes de cana-de-açúcar que desenvolvem suas atividades no Estado do Rio de Janeiro; altera a Lei nº 11.101, de 9 de fevereiro de 2005; institui o Programa de Fortalecimento das Entidades Privadas Filantrópicas e das Entidades sem Fins Lucrativos que Atuam na Área da Saúde e que Participam de Forma Complementar do Sistema Único de Saúde - PROSUS; dispõe sobre a utilização pelos Estados, Distrito Federal e Municípios dos registros de preços realizados pelo Ministério da Saúde; autoriza a União, por intermédio do Ministério do Planejamento, Orçamento e Gestão, a conceder o uso de bens públicos imobiliários dominicais, mediante emissão de Certificado de Direito de Uso de Bem Público Imobiliário - CEDUPI; altera o Decreto- Lei nº 3.365, de 21 de junho de 1941; dispõe sobre as dívidas originárias de perdas constatadas nas armazenagens de produtos vinculados à Política de Garantia de Preços Mínimos - PGPM e Estoques Reguladores do Governo Federal, depositados em armazéns de terceiros, anteriores a 31 de dezembro de 2011; altera a Lei nº 10.438, de 26 de abril de 2002; autoriza o Poder Executivo a declarar estado de emergência fitossanitária ou zoossanitária, quando for constatada situação epidemiológica que indique risco iminente de introdução de doença exótica ou praga quarentenária ausente no País, ou haja risco de surto ou epidemia de doença ou praga já existente; altera a Lei nº 9.430, de 27 de dezembro de 1996; dispõe sobre o repasse pelas entidades privadas filantrópicas e entidades sem fins lucrativos às suas mantenedoras de recursos financeiros recebidos dos entes públicos; altera a Medida Provisória nº 2.158- 35, de 24 de agosto de 2001, as Leis nºs 10.848, de 15 de março de 2004, 12.350, de 20 de dezembro de 2010, 12.096, de 24 de novembro de 2009, 5.869, de 11 de janeiro de 1973 - Código de Processo Civil, 12.087, de 11 de novembro de 2009, e 10.260, de 12 de julho de 2001; e dá outras providências.                                                                                                                                                                                                                                                                                                                                                                                                                                                                                                                                                                                                                                                              |591321|{LEI-12873-2013-10-24, NULL, 24/10/2013, Lei Numerada, LEI-12873-2013-10-24, Lei nº 12.873 de 24/10/2013, 12873, NULL, LEI-n, https://normas.leg.br/?urn=urn:lex:br:federal:lei:2013-10-24;12873}|{FIXAÇÃO ,  NORMAS ,  RESPONSABILIDADE ,  OBRIGAÇÃO TRIBUTARIA ACESSORIA ,  TRIBUTO FEDERAL ,  INFRAÇÃO .}                                                                                                      |NULL |ORIGEM: PLV 25/2013. AUTOR: COMISSÃO MISTA DA MEDIDA PROVISÓRIA Nº619, DE 2013 (CN)\\nO ARTIGO 64 DESTA LEI PRODUZ EFEITOS A PARTIR DE 1 DE JANEIRO DE 2014.|{{2, 25/10/2013, Publicação Original   [Diário Oficial da União  de 25/10/2013] (p. 1, col. 2), Diário Oficial da União  de 25/10/2013, 14371704, 1, DOU-2013-10-25, S, PUB}}                      |{{39712283, 2, Declaração de Legislação Correlata, 25/09/2024, 26/09/2024, 39712128, {{Dispositivo Correlato, Art. 52, caput}}, Lei nº 14.989 de 25/09/2024, Publicação Original   [Diário Oficial da União  de 26/09/2024] (p. 3, col. 2), 3, 750}}|\n",
      "+-------------------------------------------------------------------------------------------------------+---------------------------------------------------------------------------------------------------+-----------------------------------------------------------------------------------------------------------------------------------------------------------------+------------------------------------------------------------------------------------------------------------------+----------------------------------------------------------------------------------------------------------------------------------------------------------------------------------------------------------------------------------------------------------------------------------------------------------------------------------------------------------------------------------------------------------------------------------------------------------------------------------------------------------------------------------------------------------------------------------------------------------------------------------------------------------------------------------------------------------------------------------------------------------------------------------------------------------------------------------------------------------------------------------------------------------------------------------------------------------------------------------------------------------------------------------------------------------------------------------------------------------------------------------------------------------------------------------------------------------------------------------------------------------------------------------------------------------------------------------------------------------------------------------------------------------------------------------------------------------------------------------------------------------------------------------------------------------------------------------------------------------------------------------------------------------------------------------------------------------------------------------------------------------------------------------------------------------------------------------------------------------------------------------------------------------------------------------------------------------------------------------------------------------------------------------------------------------------------------------------------------------------------------------------------------------------------------------------------------------------------------------------------------------------------------------------------------------------------------------------------------------------------------------------------------------------------------------------------------------------------------------------------------------------------------------------------------------------------------------------------------------------------------------------------------------------------------------------------------------------------------------------------------------------------------------------------------------------------------------------------------------------------------------------------------------------------------------------------------------------------------------------------------------------------------------------------------------------------------------------------------------------------------------------------------------------------------------------------------------------------------------------------------------------------------------------------------------------------------------------------------------------------------------------------------------------------------------------------------------------------------------------------------------------------------------------------------------------------------------------------------------------------------------------------------------------------------------------------------------------------------------------------------------------------------------------------------------------------------------------------------------------------------------------------------------------------------------------------------------------------------------------------------------------------------------------------------------------------------------------------------------------------------------------------------------------+------+-------------------------------------------------------------------------------------------------------------------------------------------------------------------------------------------------+----------------------------------------------------------------------------------------------------------------------------------------------------------------------------------------------------------------+-----+-----------------------------------------------------------------------------------------------------------------------------------------------------------+---------------------------------------------------------------------------------------------------------------------------------------------------------------------------------------------------+----------------------------------------------------------------------------------------------------------------------------------------------------------------------------------------------------------------------------------------------------+\n",
      "only showing top 2 rows\n",
      "\n"
     ]
    }
   ],
   "source": [
    "# Leitura dos arquivos JSON  (I/O costuma levar < 5 s para 7 000 linhas)\n",
    "# Ajustes só fazem diferença se houver **centenas** de arquivos pequenos.\n",
    "# ──────────────────────────────────────────────────────────────\n",
    "df_raw = (\n",
    "    spark.read\n",
    "         .option(\"multiLine\", True)       # mantém registros multilinha\n",
    "         .option(\"wholeFile\", True)       # ↳ lê um arquivo por tarefa → ↓ overhead de metadados\n",
    "         .json(\"legislacao/*.json\")\n",
    "         .coalesce(8)                     # junta partições (16→8) p/ dataset pequeno\n",
    "         .cache()                         # se for reutilizar várias vezes\n",
    ")\n",
    "\n",
    "df_raw.printSchema()\n",
    "df_raw.show(2, truncate=False)"
   ]
  },
  {
   "cell_type": "markdown",
   "id": "b41b6fd9-07b6-4a7c-b25e-ab59f57a1def",
   "metadata": {},
   "source": [
    "# Filtrando não nulos e preparando campos de features"
   ]
  },
  {
   "cell_type": "code",
   "execution_count": 5,
   "id": "397c5658-d239-4e51-abca-502d5798a3ab",
   "metadata": {},
   "outputs": [
    {
     "data": {
      "text/plain": [
       "7836"
      ]
     },
     "execution_count": 5,
     "metadata": {},
     "output_type": "execute_result"
    }
   ],
   "source": [
    "from pyspark.sql.functions import col, udf, explode, expr\n",
    "# agora expr está definido\n",
    "\n",
    "\n",
    "df = (\n",
    "    df_raw.filter(\n",
    "        col(\"ementa\").isNotNull() & col(\"classes.classe\").isNotNull()\n",
    "    )\n",
    "    .select(\n",
    "        \"ementa\",\n",
    "        col(\"indexacao.frase\").alias(\"indexacao_frase\"),\n",
    "        col(\"catalogo.frase\").alias(\"catalogo_frase\"),\n",
    "        expr(\"transform(split(classes.classe, '/'), x -> trim(x))\").alias(\"classe_array\"),\n",
    "        col(\"classes.classe\").alias(\"classe_str\"),\n",
    "        col(\"identificacao.tipo\").alias(\"tipo\"),\n",
    "        col(\"identificacao.dataassinatura\").alias(\"dataassinatura\")\n",
    "    )\n",
    "    .cache()           # ← materializa uma única vez, evita reprocessar depois\n",
    ")\n",
    "df.count()            # força a materialização já aqui (opcional)"
   ]
  },
  {
   "cell_type": "markdown",
   "id": "56d6452f-a3d4-4956-9821-5f6299b2b934",
   "metadata": {},
   "source": [
    "# Etapa 1: Pré-processamento"
   ]
  },
  {
   "cell_type": "code",
   "execution_count": 6,
   "id": "16083763-0c76-43ad-8f4a-affe896cc15c",
   "metadata": {},
   "outputs": [],
   "source": [
    "# ──────────────────────────────────────────────────────────────\n",
    "# Texto unificado + ano (custo irrisório p/ 7 k linhas)\n",
    "#   • Faz tudo num único .select() → só 1 stage em vez de 2\n",
    "#   • Mantém o cache herdado; não precisa recachear\n",
    "# ──────────────────────────────────────────────────────────────\n",
    "from pyspark.sql.functions import concat_ws, year, to_date\n",
    "\n",
    "df = (\n",
    "    df.select(\n",
    "        \"*\",\n",
    "        concat_ws(\" \", \"ementa\", \"indexacao_frase\", \"catalogo_frase\")\n",
    "            .alias(\"texto_completo\"),\n",
    "        year(to_date(\"dataassinatura\", \"dd/MM/yyyy\")).alias(\"ano\")\n",
    "    )\n",
    ")\n"
   ]
  },
  {
   "cell_type": "markdown",
   "id": "a5a06bc8-c008-44e5-81ab-50a3d50a5570",
   "metadata": {},
   "source": [
    "# Etapa 2 - Indexação dos campos tipo e classe"
   ]
  },
  {
   "cell_type": "code",
   "execution_count": 7,
   "id": "d32c75f3-ebae-44f0-9295-f1b407de33ed",
   "metadata": {},
   "outputs": [],
   "source": [
    "from pyspark.ml.feature import StringIndexer\n",
    "\n",
    "# Converte tipo textual em número (categoria)\n",
    "tipo_indexer = StringIndexer(inputCol=\"tipo\", outputCol=\"tipo_indexado\", handleInvalid=\"keep\")"
   ]
  },
  {
   "cell_type": "markdown",
   "id": "41bae676-d849-465e-916b-fe02b7f4b2f6",
   "metadata": {},
   "source": [
    "# ETAPA 3 — Vetorizar o texto com TF-IDF"
   ]
  },
  {
   "cell_type": "code",
   "execution_count": 8,
   "id": "f2e61021-2eb0-4da0-92b0-d4fd541ccbe6",
   "metadata": {},
   "outputs": [],
   "source": [
    "from pyspark.ml.feature import Tokenizer, HashingTF, IDF, StopWordsRemover\n",
    "\n",
    "tokenizer = Tokenizer(inputCol=\"texto_completo\", outputCol=\"tokens\")\n",
    "\n",
    "# (opcional) remover stop-words já corta ~20 % dos termos antes do hash\n",
    "stop_rm   = StopWordsRemover(inputCol=\"tokens\", outputCol=\"tokens_limpos\")\n",
    "\n",
    "hashingTF = HashingTF(\n",
    "    inputCol=\"tokens_limpos\",          # ou \"tokens\" se não usar StopWordsRemover\n",
    "    outputCol=\"rawFeatures\",\n",
    "    numFeatures=4096,                  # ↓ metade do default de 10 000\n",
    "    binary=True                        # só presença/ausência; mais leve\n",
    ")\n",
    "\n",
    "idf = IDF(inputCol=\"rawFeatures\", outputCol=\"text_features\")\n"
   ]
  },
  {
   "cell_type": "markdown",
   "id": "9b3716cc-e087-4ef5-98f5-2c78bab37dfd",
   "metadata": {},
   "source": [
    "# ETAPA 4 — Combinar todas as features num vetor único"
   ]
  },
  {
   "cell_type": "code",
   "execution_count": 9,
   "id": "b8ba7503-23e2-4122-a261-35c4ff6537fd",
   "metadata": {},
   "outputs": [],
   "source": [
    "from pyspark.ml.feature import VectorAssembler\n",
    "\n",
    "assembler = VectorAssembler(\n",
    "    inputCols=[\"text_features\"],\n",
    "    outputCol=\"features\"\n",
    ")\n"
   ]
  },
  {
   "cell_type": "markdown",
   "id": "69b73e26-529e-4ebc-b510-46ff820aae6f",
   "metadata": {},
   "source": [
    "# ETAPA 5 — Definir o modelo de classificação"
   ]
  },
  {
   "cell_type": "code",
   "execution_count": 11,
   "id": "9b107d8e-91fd-4b23-a01e-d68e6254f1f2",
   "metadata": {},
   "outputs": [],
   "source": [
    "import pyspark.sql.functions as F\n",
    "from pyspark.ml.classification import LogisticRegression\n",
    "\n",
    "# lista de rótulos distintos (strings) presentes na coluna classe_array\n",
    "labels = (\n",
    "    df.select(F.explode(\"classe_array\").alias(\"lbl\"))\n",
    "      .distinct()\n",
    "      .rdd.map(lambda r: r.lbl)\n",
    "      .collect()\n",
    ")\n",
    "\n",
    "lr_template = LogisticRegression(\n",
    "    featuresCol=\"features\",\n",
    "    maxIter=30, regParam=0.1\n",
    ")\n",
    "\n",
    "lr_models = {\n",
    "    lbl: lr_template.copy({lr_template.labelCol: f\"label_{lbl}\"})\n",
    "    for lbl in labels\n",
    "}\n"
   ]
  },
  {
   "cell_type": "markdown",
   "id": "d1a95f06-8bd9-40ed-a289-0b3c5fcb288e",
   "metadata": {},
   "source": [
    "# ETAPA 6 — Criar o pipeline completo"
   ]
  },
  {
   "cell_type": "code",
   "execution_count": 12,
   "id": "04c60cdf-3093-43ae-a919-7c813fb05e2c",
   "metadata": {},
   "outputs": [],
   "source": [
    "from pyspark.ml.feature import (\n",
    "    Tokenizer, StopWordsRemover, NGram,\n",
    "    HashingTF, IDF, VectorAssembler\n",
    ")\n",
    "\n",
    "# tokenização\n",
    "tokenizer  = Tokenizer(inputCol=\"texto_completo\", outputCol=\"tok\")\n",
    "# remove palavras muito comuns (português)\n",
    "stop_rm    = StopWordsRemover(inputCol=\"tok\", outputCol=\"tok_rm\", caseSensitive=False, locale=\"pt\")\n",
    "# gera bigramas\n",
    "bigrams    = NGram(n=2, inputCol=\"tok_rm\", outputCol=\"tok2\")\n",
    "\n",
    "# hash-TF: presença/ausência, vetor menor\n",
    "hashingTF  = HashingTF(\n",
    "    inputCol=\"tok2\",\n",
    "    outputCol=\"raw\",\n",
    "    numFeatures=4096,    # ↓ de 10 000\n",
    "    binary=True          # só presença (mais rápido)\n",
    ")\n",
    "\n",
    "idf = IDF(\n",
    "    inputCol=\"raw\",\n",
    "    outputCol=\"text_features\",\n",
    "    minDocFreq=2         # ignora termos que aparecem 1×\n",
    ")\n",
    "\n",
    "assembler = VectorAssembler(\n",
    "    inputCols=[\"text_features\"],\n",
    "    outputCol=\"features\"\n",
    ")\n",
    "\n",
    "preprocess_pipeline = Pipeline(stages=[\n",
    "    tokenizer, stop_rm, bigrams, hashingTF, idf, assembler\n",
    "])"
   ]
  },
  {
   "cell_type": "markdown",
   "id": "4064de81-dfe4-435e-9f5b-b51e6f23b389",
   "metadata": {},
   "source": [
    "#  ETAPA 7 — Treinar e avaliar"
   ]
  },
  {
   "cell_type": "code",
   "execution_count": 13,
   "id": "fb6c3fd2-99b4-4167-a9d6-b9e5367ce295",
   "metadata": {},
   "outputs": [
    {
     "name": "stderr",
     "output_type": "stream",
     "text": [
      "Treinando LR: 100%|██████████| 161/161 [06:13<00:00,  2.32s/rótulo]\n",
      "Predizendo: 100%|██████████| 161/161 [05:28<00:00,  2.04s/rótulo]\n"
     ]
    },
    {
     "data": {
      "text/plain": [
       "1535"
      ]
     },
     "execution_count": 13,
     "metadata": {},
     "output_type": "execute_result"
    }
   ],
   "source": [
    "# ──────────────────────────────────────────────────────────────\n",
    "# SPLIT ▸ PREPROCESS ▸ CACHE ▸ TREINO MULTILABEL ▸ PREDIÇÃO\n",
    "# (versão otimizada: colunas binárias criadas de uma vez +\n",
    "#  Logistic Regression treinada em paralelo com 4 threads)\n",
    "# ──────────────────────────────────────────────────────────────\n",
    "from pyspark.sql import functions as F\n",
    "from pyspark.sql.types import DoubleType\n",
    "from pyspark.ml.linalg import VectorUDT\n",
    "from pyspark.ml.classification import LogisticRegression\n",
    "from concurrent.futures import ThreadPoolExecutor, as_completed\n",
    "from tqdm import tqdm\n",
    "\n",
    "# 1) divide dados\n",
    "train_raw, test_raw = df.randomSplit([0.8, 0.2], seed=42)\n",
    "\n",
    "# 2) aplica pipeline de atributos e materializa em cache\n",
    "preprocess_model = preprocess_pipeline.fit(train_raw)\n",
    "train_feat = preprocess_model.transform(train_raw).cache()\n",
    "test_feat  = preprocess_model.transform(test_raw).cache()\n",
    "train_feat.count()                      # força materialização\n",
    "\n",
    "# 3) rótulos distintos\n",
    "labels = (train_feat\n",
    "          .select(F.explode(\"classe_array\").alias(\"lbl\"))\n",
    "          .distinct()\n",
    "          .rdd.map(lambda r: r.lbl)\n",
    "          .collect())\n",
    "\n",
    "# 4) cria TODAS as colunas binárias de uma vez\n",
    "for lbl in labels:\n",
    "    train_feat = train_feat.withColumn(\n",
    "        f\"label_{lbl}\",\n",
    "        F.array_contains(\"classe_array\", F.lit(lbl)).cast(\"double\")\n",
    "    )\n",
    "\n",
    "# 5) função de treino (Logistic Regression binária)\n",
    "def train_lr(label):\n",
    "    n_pos = train_feat.filter(F.col(f\"label_{label}\") == 1).count()\n",
    "    max_iter = 50 if n_pos > 500 else 30\n",
    "\n",
    "    lr = LogisticRegression(\n",
    "        featuresCol=\"features\",\n",
    "        labelCol=f\"label_{label}\",\n",
    "        maxIter=max_iter,\n",
    "        regParam=0.1        # L2\n",
    "    )\n",
    "    return label, lr.fit(train_feat)\n",
    "\n",
    "# 6) treino em paralelo + barra de progresso\n",
    "lr_models = {}\n",
    "with ThreadPoolExecutor(max_workers=4) as pool, tqdm(total=len(labels),\n",
    "                                                     desc=\"Treinando LR\",\n",
    "                                                     unit=\"rótulo\") as pbar:\n",
    "    futures = [pool.submit(train_lr, lbl) for lbl in labels]\n",
    "    for fut in as_completed(futures):\n",
    "        lbl, model = fut.result()\n",
    "        lr_models[lbl] = model\n",
    "        pbar.update(1)\n",
    "\n",
    "# 7) gera previsões no conjunto de teste\n",
    "@F.udf(returnType=DoubleType())\n",
    "def prob_one(vec: VectorUDT) -> float:          # extrai probabilidade da classe 1\n",
    "    return float(vec[1]) if vec is not None else 0.0\n",
    "\n",
    "threshold = 0.35\n",
    "test_pred = test_feat\n",
    "\n",
    "for lbl in tqdm(labels, desc=\"Predizendo\", unit=\"rótulo\"):\n",
    "    model = lr_models[lbl]\n",
    "    test_pred = (\n",
    "        model.transform(test_pred)\n",
    "             .withColumn(f\"prob_{lbl}\", prob_one(\"probability\"))\n",
    "             .withColumn(f\"pred_{lbl}\", (F.col(f\"prob_{lbl}\") >= threshold).cast(\"int\"))\n",
    "             .drop(\"probability\", \"rawPrediction\", \"prediction\")\n",
    "    )\n",
    "\n",
    "# 8) ACTION para executar todo o DAG de predição\n",
    "test_pred.cache()\n",
    "test_pred.count()          # ← executa todas as transformações\n",
    "\n",
    "# Agora `test_pred` contém prob_<rótulo> e pred_<rótulo> para cada classe"
   ]
  },
  {
   "cell_type": "code",
   "execution_count": 17,
   "id": "207cef70-febb-4440-b1f7-1216b3beb262",
   "metadata": {},
   "outputs": [
    {
     "name": "stdout",
     "output_type": "stream",
     "text": [
      "Acurácia média por rótulo (ex.: A B C vs A B D = 0.6667): 0.8351\n"
     ]
    }
   ],
   "source": [
    "from pyspark.sql import functions as F\n",
    "\n",
    "# 1) junte todas as predições 0/1 em um array de rótulos\n",
    "pred_cols = [\n",
    "    F.when(F.col(f\"pred_{lbl}\") == 1, F.lit(lbl)).otherwise(None)\n",
    "    for lbl in labels\n",
    "]\n",
    "\n",
    "test_pred = test_pred.withColumn(\n",
    "    \"pred_labels\",\n",
    "    F.filter(F.array(*pred_cols), lambda x: x.isNotNull())   # remove None\n",
    ")\n",
    "\n",
    "# 2) para cada lei, calcule a proporção de rótulos corretos\n",
    "#    (|pred ∩ real|  /  |real|)\n",
    "test_pred = (\n",
    "    test_pred.withColumn(\n",
    "        \"acertos\", F.size(F.array_intersect(\"pred_labels\", \"classe_array\"))\n",
    "    )\n",
    "    .withColumn(\n",
    "        \"total_reais\", F.size(\"classe_array\").cast(\"double\")\n",
    "    )\n",
    "    .withColumn(\n",
    "        \"proporcao_certa\",\n",
    "        (F.col(\"acertos\") / F.col(\"total_reais\")).cast(\"double\")\n",
    "    )\n",
    ")\n",
    "\n",
    "# 3) acurácia média = média das proporções linha-a-linha\n",
    "accuracy = test_pred.select(F.avg(\"proporcao_certa\")).first()[0]\n",
    "print(f\"Acurácia média por rótulo (ex.: A B C vs A B D = 0.6667): {accuracy:.4f}\")"
   ]
  },
  {
   "cell_type": "code",
   "execution_count": 18,
   "id": "e6e08bbb-3fad-453d-97c3-0068177709fb",
   "metadata": {},
   "outputs": [
    {
     "name": "stdout",
     "output_type": "stream",
     "text": [
      "Precision (micro): 0.9546\n",
      "Recall    (micro): 0.8464\n",
      "F1-score  (micro): 0.8972\n"
     ]
    }
   ],
   "source": [
    "# ──────────────────────────────────────────────────────────────\n",
    "# MÉTRICAS MULTILABEL  –  precision, recall e F1 (média MICRO)\n",
    "# ──────────────────────────────────────────────────────────────\n",
    "from pyspark.sql import functions as F\n",
    "\n",
    "# 0) garanta que existe a coluna pred_labels (array de rótulos previstos)\n",
    "#    – se você já criou antes, pule este bloco\n",
    "pred_cols = [\n",
    "    F.when(F.col(f\"pred_{lbl}\") == 1, F.lit(lbl)).otherwise(None)\n",
    "    for lbl in labels\n",
    "]\n",
    "test_pred = test_pred.withColumn(\n",
    "    \"pred_labels\",\n",
    "    F.filter(F.array(*pred_cols), lambda x: x.isNotNull())\n",
    ")\n",
    "\n",
    "# 1) true-positives, false-positives, false-negatives\n",
    "test_pred = (\n",
    "    test_pred\n",
    "    .withColumn(\"tp_list\", F.array_intersect(\"pred_labels\", \"classe_array\"))\n",
    "    .withColumn(\"fp_list\", F.array_except(\"pred_labels\", \"classe_array\"))\n",
    "    .withColumn(\"fn_list\", F.array_except(\"classe_array\", \"pred_labels\"))\n",
    ")\n",
    "\n",
    "agg = (\n",
    "    test_pred.select(\n",
    "        F.size(\"tp_list\").alias(\"tp\"),\n",
    "        F.size(\"fp_list\").alias(\"fp\"),\n",
    "        F.size(\"fn_list\").alias(\"fn\")\n",
    "    )\n",
    "    .groupBy()\n",
    "    .sum(\"tp\", \"fp\", \"fn\")\n",
    "    .first()\n",
    ")\n",
    "\n",
    "tp, fp, fn = agg[\"sum(tp)\"], agg[\"sum(fp)\"], agg[\"sum(fn)\"]\n",
    "\n",
    "precision = tp / (tp + fp) if tp + fp else 0.0\n",
    "recall    = tp / (tp + fn) if tp + fn else 0.0\n",
    "f1_micro  = 2 * precision * recall / (precision + recall) if precision + recall else 0.0\n",
    "\n",
    "print(f\"Precision (micro): {precision:.4f}\")\n",
    "print(f\"Recall    (micro): {recall:.4f}\")\n",
    "print(f\"F1-score  (micro): {f1_micro:.4f}\")"
   ]
  },
  {
   "cell_type": "code",
   "execution_count": null,
   "id": "e50c37ec-e57d-4da5-95fa-96a3a5574ed2",
   "metadata": {},
   "outputs": [],
   "source": []
  }
 ],
 "metadata": {
  "kernelspec": {
   "display_name": "Python 3 (ipykernel)",
   "language": "python",
   "name": "python3"
  },
  "language_info": {
   "codemirror_mode": {
    "name": "ipython",
    "version": 3
   },
   "file_extension": ".py",
   "mimetype": "text/x-python",
   "name": "python",
   "nbconvert_exporter": "python",
   "pygments_lexer": "ipython3",
   "version": "3.11.6"
  }
 },
 "nbformat": 4,
 "nbformat_minor": 5
}
